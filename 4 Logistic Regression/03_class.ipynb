{
 "cells": [
  {
   "cell_type": "markdown",
   "metadata": {},
   "source": [
    "# 클래스로 파이토치 모델 구현"
   ]
  },
  {
   "cell_type": "code",
   "execution_count": 2,
   "metadata": {},
   "outputs": [
    {
     "data": {
      "text/plain": [
       "<torch._C.Generator at 0x7f5b90cc1670>"
      ]
     },
     "execution_count": 2,
     "metadata": {},
     "output_type": "execute_result"
    }
   ],
   "source": [
    "import torch\n",
    "import torch.nn as nn\n",
    "import torch.nn.functional as F\n",
    "import torch.optim as optim\n",
    "torch.manual_seed(1)"
   ]
  },
  {
   "cell_type": "code",
   "execution_count": 3,
   "metadata": {},
   "outputs": [],
   "source": [
    "class BinaryClassifier(nn.Module):\n",
    "    def __init__(self):\n",
    "        super().__init__()\n",
    "        self.linear = nn.Linear(2, 1)\n",
    "        self.sigmoid = nn.Sigmoid()\n",
    "\n",
    "    def forward(self, x):\n",
    "        return self.sigmoid(self.linear(x))"
   ]
  },
  {
   "cell_type": "code",
   "execution_count": 4,
   "metadata": {},
   "outputs": [],
   "source": [
    "x_data = [[1, 2], [2, 3], [3, 1], [4, 3], [5, 3], [6, 2]]\n",
    "y_data = [[0], [0], [0], [1], [1], [1]]\n",
    "x_train = torch.FloatTensor(x_data)\n",
    "y_train = torch.FloatTensor(y_data)"
   ]
  },
  {
   "cell_type": "code",
   "execution_count": 5,
   "metadata": {},
   "outputs": [
    {
     "name": "stdout",
     "output_type": "stream",
     "text": [
      "Epoch    0/2000 Cost: 0.539713 Accuracy: 0.833\n",
      "Epoch  100/2000 Cost: 0.407688 Accuracy: 0.833\n",
      "Epoch  200/2000 Cost: 0.345649 Accuracy: 0.833\n",
      "Epoch  300/2000 Cost: 0.298323 Accuracy: 0.833\n",
      "Epoch  400/2000 Cost: 0.261179 Accuracy: 0.833\n",
      "Epoch  500/2000 Cost: 0.231633 Accuracy: 1.000\n",
      "Epoch  600/2000 Cost: 0.207779 Accuracy: 1.000\n",
      "Epoch  700/2000 Cost: 0.188230 Accuracy: 1.000\n",
      "Epoch  800/2000 Cost: 0.171976 Accuracy: 1.000\n",
      "Epoch  900/2000 Cost: 0.158282 Accuracy: 1.000\n",
      "Epoch 1000/2000 Cost: 0.146605 Accuracy: 1.000\n",
      "Epoch 1100/2000 Cost: 0.136541 Accuracy: 1.000\n",
      "Epoch 1200/2000 Cost: 0.127783 Accuracy: 1.000\n",
      "Epoch 1300/2000 Cost: 0.120095 Accuracy: 1.000\n",
      "Epoch 1400/2000 Cost: 0.113294 Accuracy: 1.000\n",
      "Epoch 1500/2000 Cost: 0.107237 Accuracy: 1.000\n",
      "Epoch 1600/2000 Cost: 0.101806 Accuracy: 1.000\n",
      "Epoch 1700/2000 Cost: 0.096911 Accuracy: 1.000\n",
      "Epoch 1800/2000 Cost: 0.092476 Accuracy: 1.000\n",
      "Epoch 1900/2000 Cost: 0.088437 Accuracy: 1.000\n",
      "Epoch 2000/2000 Cost: 0.084745 Accuracy: 1.000\n"
     ]
    }
   ],
   "source": [
    "model = BinaryClassifier()\n",
    "\n",
    "optimizer = optim.SGD(model.parameters(), lr=0.1)\n",
    "\n",
    "nb_epochs = 2000\n",
    "for epoch in range(nb_epochs + 1):\n",
    "    hypothesis = model(x_train)\n",
    "    cost = F.binary_cross_entropy(hypothesis, y_train)\n",
    "    optimizer.zero_grad()\n",
    "    cost.backward()\n",
    "    optimizer.step()\n",
    "\n",
    "    if epoch % 100 == 0:\n",
    "        prediction = hypothesis >= torch.FloatTensor([0.5])\n",
    "        correct_prediction = prediction.float() == y_train\n",
    "        accuracy = correct_prediction.sum().item() / len(correct_prediction)\n",
    "        print('Epoch {:4d}/{} Cost: {:.6f} Accuracy: {:2.3f}'.format(\n",
    "            epoch, nb_epochs, cost.item(), accuracy))\n"
   ]
  }
 ],
 "metadata": {
  "interpreter": {
   "hash": "ace3e1ad7af0847684bd297f2968649b4d96ae2f627f328ee2eafd305163f7dc"
  },
  "kernelspec": {
   "display_name": "Python 3.8.11 64-bit ('rjs': conda)",
   "name": "python3"
  },
  "language_info": {
   "codemirror_mode": {
    "name": "ipython",
    "version": 3
   },
   "file_extension": ".py",
   "mimetype": "text/x-python",
   "name": "python",
   "nbconvert_exporter": "python",
   "pygments_lexer": "ipython3",
   "version": "3.8.12"
  },
  "orig_nbformat": 4
 },
 "nbformat": 4,
 "nbformat_minor": 2
}
