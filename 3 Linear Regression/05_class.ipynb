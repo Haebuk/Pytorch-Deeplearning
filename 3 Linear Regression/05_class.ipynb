{
 "cells": [
  {
   "cell_type": "markdown",
   "metadata": {},
   "source": [
    "# 모델을 클래스로 구현"
   ]
  },
  {
   "cell_type": "code",
   "execution_count": 2,
   "metadata": {},
   "outputs": [],
   "source": [
    "import torch\n",
    "import torch.nn as nn\n",
    "import torch.nn.functional as F"
   ]
  },
  {
   "cell_type": "code",
   "execution_count": 5,
   "metadata": {},
   "outputs": [],
   "source": [
    "model = nn.Linear(1, 1)"
   ]
  },
  {
   "cell_type": "markdown",
   "metadata": {},
   "source": [
    "# 단순 선형 회귀 클래스 구현"
   ]
  },
  {
   "cell_type": "code",
   "execution_count": 12,
   "metadata": {},
   "outputs": [],
   "source": [
    "class LinearRegressionModel(nn.Module): # torch.nn.Module 상속받는 클래스\n",
    "    def __init__(self):\n",
    "        super().__init__()\n",
    "        self.linear = nn.Linear(1, 1)\n",
    "\n",
    "    def forward(self, x): # model 객체를 데이터와 호출하면 자동 실행\n",
    "        return self.linear(x)\n",
    "\n",
    "model = LinearRegressionModel()        "
   ]
  },
  {
   "cell_type": "code",
   "execution_count": 13,
   "metadata": {},
   "outputs": [],
   "source": [
    "optimizer = torch.optim.SGD(model.parameters(), lr=0.01)"
   ]
  },
  {
   "cell_type": "code",
   "execution_count": 14,
   "metadata": {},
   "outputs": [
    {
     "name": "stdout",
     "output_type": "stream",
     "text": [
      "Epoch    0/2000 Cost: 44.674061\n",
      "Epoch  100/2000 Cost: 0.010830\n",
      "Epoch  200/2000 Cost: 0.005946\n",
      "Epoch  300/2000 Cost: 0.003264\n",
      "Epoch  400/2000 Cost: 0.001792\n",
      "Epoch  500/2000 Cost: 0.000984\n",
      "Epoch  600/2000 Cost: 0.000540\n",
      "Epoch  700/2000 Cost: 0.000296\n",
      "Epoch  800/2000 Cost: 0.000163\n",
      "Epoch  900/2000 Cost: 0.000089\n",
      "Epoch 1000/2000 Cost: 0.000049\n",
      "Epoch 1100/2000 Cost: 0.000027\n",
      "Epoch 1200/2000 Cost: 0.000015\n",
      "Epoch 1300/2000 Cost: 0.000008\n",
      "Epoch 1400/2000 Cost: 0.000004\n",
      "Epoch 1500/2000 Cost: 0.000002\n",
      "Epoch 1600/2000 Cost: 0.000001\n",
      "Epoch 1700/2000 Cost: 0.000001\n",
      "Epoch 1800/2000 Cost: 0.000000\n",
      "Epoch 1900/2000 Cost: 0.000000\n"
     ]
    }
   ],
   "source": [
    "nb_epochs = 2000\n",
    "x_train = torch.tensor([[1.], [2.], [3.], [4.]])\n",
    "y_train = torch.tensor([[2.], [4.], [6.], [8.]])\n",
    "for epoch in range(nb_epochs):\n",
    "    \n",
    "    prediction = model(x_train)\n",
    "\n",
    "    cost = F.mse_loss(prediction, y_train)\n",
    "    optimizer.zero_grad()\n",
    "    cost.backward()\n",
    "    optimizer.step()\n",
    "\n",
    "    if epoch % 100 == 0:\n",
    "        print('Epoch {:4d}/{} Cost: {:.6f}'.format(epoch, nb_epochs, cost.item()))"
   ]
  },
  {
   "cell_type": "markdown",
   "metadata": {},
   "source": [
    "# 다중 선형 회귀 클래스 구현"
   ]
  },
  {
   "cell_type": "code",
   "execution_count": 6,
   "metadata": {},
   "outputs": [],
   "source": [
    "model = nn.Linear(3, 1)"
   ]
  },
  {
   "cell_type": "code",
   "execution_count": 19,
   "metadata": {},
   "outputs": [],
   "source": [
    "class MultivariateLinearRegressionModel(nn.Module):\n",
    "    def __init__(self):\n",
    "        super().__init__()\n",
    "        self.linear = nn.Linear(3, 1)\n",
    "\n",
    "    def forward(self, x):\n",
    "        return self.linear(x)\n",
    "\n",
    "model = MultivariateLinearRegressionModel()"
   ]
  },
  {
   "cell_type": "code",
   "execution_count": 20,
   "metadata": {},
   "outputs": [],
   "source": [
    "x_train = torch.FloatTensor([\n",
    "    [73, 80, 75],\n",
    "    [93, 88, 93],\n",
    "    [89, 91, 90],\n",
    "    [96, 98, 100],\n",
    "    [73, 66, 70]\n",
    "])\n",
    "y_train = torch.FloatTensor([\n",
    "    [152], [185], [180], [196], [142]\n",
    "])"
   ]
  },
  {
   "cell_type": "code",
   "execution_count": 21,
   "metadata": {},
   "outputs": [
    {
     "name": "stdout",
     "output_type": "stream",
     "text": [
      "Epoch    0/2000 Cost: 46443.933594\n",
      "Epoch  100/2000 Cost: 0.594351\n",
      "Epoch  200/2000 Cost: 0.587968\n",
      "Epoch  300/2000 Cost: 0.581843\n",
      "Epoch  400/2000 Cost: 0.575970\n",
      "Epoch  500/2000 Cost: 0.570333\n",
      "Epoch  600/2000 Cost: 0.564908\n",
      "Epoch  700/2000 Cost: 0.559707\n",
      "Epoch  800/2000 Cost: 0.554703\n",
      "Epoch  900/2000 Cost: 0.549890\n",
      "Epoch 1000/2000 Cost: 0.545249\n",
      "Epoch 1100/2000 Cost: 0.540789\n",
      "Epoch 1200/2000 Cost: 0.536490\n",
      "Epoch 1300/2000 Cost: 0.532339\n",
      "Epoch 1400/2000 Cost: 0.528336\n",
      "Epoch 1500/2000 Cost: 0.524481\n",
      "Epoch 1600/2000 Cost: 0.520754\n",
      "Epoch 1700/2000 Cost: 0.517152\n",
      "Epoch 1800/2000 Cost: 0.513675\n",
      "Epoch 1900/2000 Cost: 0.510298\n"
     ]
    }
   ],
   "source": [
    "optimizer = torch.optim.SGD(model.parameters(), lr=1e-5)\n",
    "nb_epochs = 2000\n",
    "for epoch in range(nb_epochs):\n",
    "    prediction = model(x_train)\n",
    "    cost = F.mse_loss(prediction, y_train)\n",
    "    optimizer.zero_grad()\n",
    "    cost.backward()\n",
    "    optimizer.step()\n",
    "    if epoch % 100 == 0:\n",
    "        print('Epoch {:4d}/{} Cost: {:.6f}'.format(epoch, nb_epochs, cost.item()))"
   ]
  },
  {
   "cell_type": "code",
   "execution_count": null,
   "metadata": {},
   "outputs": [],
   "source": []
  }
 ],
 "metadata": {
  "interpreter": {
   "hash": "ace3e1ad7af0847684bd297f2968649b4d96ae2f627f328ee2eafd305163f7dc"
  },
  "kernelspec": {
   "display_name": "Python 3.8.11 64-bit ('rjs': conda)",
   "name": "python3"
  },
  "language_info": {
   "codemirror_mode": {
    "name": "ipython",
    "version": 3
   },
   "file_extension": ".py",
   "mimetype": "text/x-python",
   "name": "python",
   "nbconvert_exporter": "python",
   "pygments_lexer": "ipython3",
   "version": "3.8.12"
  },
  "orig_nbformat": 4
 },
 "nbformat": 4,
 "nbformat_minor": 2
}
