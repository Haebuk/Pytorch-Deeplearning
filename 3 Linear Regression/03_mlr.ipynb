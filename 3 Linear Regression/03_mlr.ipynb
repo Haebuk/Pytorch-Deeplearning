{
 "cells": [
  {
   "cell_type": "code",
   "execution_count": 2,
   "metadata": {},
   "outputs": [
    {
     "data": {
      "text/plain": [
       "<torch._C.Generator at 0x7f01ac100590>"
      ]
     },
     "execution_count": 2,
     "metadata": {},
     "output_type": "execute_result"
    }
   ],
   "source": [
    "import torch\n",
    "import torch.nn as nn\n",
    "import torch.nn.functional as F\n",
    "import torch.optim as optim\n",
    "torch.manual_seed(1)"
   ]
  },
  {
   "cell_type": "code",
   "execution_count": 3,
   "metadata": {},
   "outputs": [],
   "source": [
    "# 훈련 데이터\n",
    "x1_train = torch.FloatTensor([[73], [93], [89], [96], [73]])\n",
    "x2_train = torch.FloatTensor([[80], [88], [91], [98], [66]])\n",
    "x3_train = torch.FloatTensor([[75], [93], [90], [100], [70]])\n",
    "y_train = torch.FloatTensor([[152], [185], [180], [196], [142]])"
   ]
  },
  {
   "cell_type": "code",
   "execution_count": 4,
   "metadata": {},
   "outputs": [],
   "source": [
    "# 가중치 w와 편향 b 초기화\n",
    "w1 = torch.zeros(1, requires_grad=True)\n",
    "w2 = torch.zeros(1, requires_grad=True)\n",
    "w3 = torch.zeros(1, requires_grad=True)\n",
    "b = torch.zeros(1, requires_grad=True)"
   ]
  },
  {
   "cell_type": "code",
   "execution_count": 6,
   "metadata": {},
   "outputs": [
    {
     "name": "stdout",
     "output_type": "stream",
     "text": [
      "Epoch    0/1000 w1: 0.294 w2: 0.294 w3: 0.297 b: 0.003 Cost: 29661.800781\n",
      "Epoch  100/1000 w1: 0.674 w2: 0.661 w3: 0.676 b: 0.008 Cost: 1.563628\n",
      "Epoch  200/1000 w1: 0.679 w2: 0.655 w3: 0.677 b: 0.008 Cost: 1.497595\n",
      "Epoch  300/1000 w1: 0.684 w2: 0.649 w3: 0.677 b: 0.008 Cost: 1.435044\n",
      "Epoch  400/1000 w1: 0.689 w2: 0.643 w3: 0.678 b: 0.008 Cost: 1.375726\n",
      "Epoch  500/1000 w1: 0.694 w2: 0.638 w3: 0.678 b: 0.009 Cost: 1.319507\n",
      "Epoch  600/1000 w1: 0.699 w2: 0.633 w3: 0.679 b: 0.009 Cost: 1.266222\n",
      "Epoch  700/1000 w1: 0.704 w2: 0.627 w3: 0.679 b: 0.009 Cost: 1.215703\n",
      "Epoch  800/1000 w1: 0.709 w2: 0.622 w3: 0.679 b: 0.009 Cost: 1.167810\n",
      "Epoch  900/1000 w1: 0.713 w2: 0.617 w3: 0.680 b: 0.009 Cost: 1.122429\n",
      "Epoch 1000/1000 w1: 0.718 w2: 0.613 w3: 0.680 b: 0.009 Cost: 1.079390\n"
     ]
    }
   ],
   "source": [
    "# optimizer 설정\n",
    "optimizer = optim.SGD([w1, w2, w3, b], lr=1e-5)\n",
    "\n",
    "np_epochs = 1000\n",
    "for epoch in range(np_epochs + 1):\n",
    "\n",
    "    # H(x)\n",
    "    hypothesis = x1_train * w1 + x2_train * w2 + x3_train * w3 + b\n",
    "\n",
    "    # cost 계산\n",
    "    cost = torch.mean((hypothesis - y_train) ** 2)\n",
    "\n",
    "    # cost로 H(x) 개선\n",
    "    optimizer.zero_grad()\n",
    "    cost.backward()\n",
    "    optimizer.step()\n",
    "\n",
    "    if epoch % 100 == 0:\n",
    "        print('Epoch {:4d}/{} w1: {:.3f} w2: {:.3f} w3: {:.3f} b: {:.3f} Cost: {:.6f}'.format(epoch, np_epochs, w1.item(), w2.item(), w3.item(), b.item(), cost.item()))"
   ]
  },
  {
   "cell_type": "markdown",
   "metadata": {},
   "source": [
    "# 벡터와 행렬 연산으로 변경"
   ]
  },
  {
   "cell_type": "code",
   "execution_count": 7,
   "metadata": {},
   "outputs": [],
   "source": [
    "x_train = torch.FloatTensor([\n",
    "    [73, 80, 75],\n",
    "    [93, 88, 93],\n",
    "    [89, 91, 90],\n",
    "    [96, 98, 100],\n",
    "    [73, 66, 70]\n",
    "])\n",
    "y_train = torch.FloatTensor([[152], [185], [180], [196], [142]])"
   ]
  },
  {
   "cell_type": "code",
   "execution_count": 8,
   "metadata": {},
   "outputs": [
    {
     "name": "stdout",
     "output_type": "stream",
     "text": [
      "torch.Size([5, 3])\n",
      "torch.Size([5, 1])\n"
     ]
    }
   ],
   "source": [
    "print(x_train.shape)\n",
    "print(y_train.shape)"
   ]
  },
  {
   "cell_type": "code",
   "execution_count": 10,
   "metadata": {},
   "outputs": [],
   "source": [
    "# 가중치 및 편향 선언\n",
    "W = torch.zeros((3, 1), requires_grad=True)\n",
    "b = torch.zeros(1, requires_grad=True)"
   ]
  },
  {
   "cell_type": "code",
   "execution_count": 12,
   "metadata": {},
   "outputs": [
    {
     "name": "stdout",
     "output_type": "stream",
     "text": [
      "Epoch:    0/20 hypothesis: tensor([152.8022, 183.6741, 180.9683, 197.0706, 140.1009]) cost: 1.618348\n",
      "Epoch:    1/20 hypothesis: tensor([152.8021, 183.6749, 180.9686, 197.0709, 140.1017]) cost: 1.617638\n",
      "Epoch:    2/20 hypothesis: tensor([152.8019, 183.6754, 180.9687, 197.0710, 140.1022]) cost: 1.616936\n",
      "Epoch:    3/20 hypothesis: tensor([152.8016, 183.6758, 180.9687, 197.0710, 140.1027]) cost: 1.616214\n",
      "Epoch:    4/20 hypothesis: tensor([152.8012, 183.6762, 180.9686, 197.0710, 140.1032]) cost: 1.615513\n",
      "Epoch:    5/20 hypothesis: tensor([152.8008, 183.6765, 180.9686, 197.0710, 140.1037]) cost: 1.614808\n",
      "Epoch:    6/20 hypothesis: tensor([152.8004, 183.6768, 180.9684, 197.0709, 140.1041]) cost: 1.614109\n",
      "Epoch:    7/20 hypothesis: tensor([152.8000, 183.6772, 180.9683, 197.0708, 140.1045]) cost: 1.613405\n",
      "Epoch:    8/20 hypothesis: tensor([152.7995, 183.6775, 180.9682, 197.0706, 140.1049]) cost: 1.612695\n",
      "Epoch:    9/20 hypothesis: tensor([152.7991, 183.6778, 180.9681, 197.0705, 140.1053]) cost: 1.611981\n",
      "Epoch:   10/20 hypothesis: tensor([152.7987, 183.6781, 180.9679, 197.0704, 140.1057]) cost: 1.611289\n",
      "Epoch:   11/20 hypothesis: tensor([152.7982, 183.6784, 180.9678, 197.0703, 140.1061]) cost: 1.610577\n",
      "Epoch:   12/20 hypothesis: tensor([152.7978, 183.6787, 180.9677, 197.0702, 140.1065]) cost: 1.609871\n",
      "Epoch:   13/20 hypothesis: tensor([152.7974, 183.6790, 180.9675, 197.0701, 140.1069]) cost: 1.609167\n",
      "Epoch:   14/20 hypothesis: tensor([152.7970, 183.6793, 180.9674, 197.0700, 140.1073]) cost: 1.608482\n",
      "Epoch:   15/20 hypothesis: tensor([152.7965, 183.6796, 180.9673, 197.0699, 140.1078]) cost: 1.607761\n",
      "Epoch:   16/20 hypothesis: tensor([152.7961, 183.6799, 180.9672, 197.0698, 140.1082]) cost: 1.607080\n",
      "Epoch:   17/20 hypothesis: tensor([152.7957, 183.6802, 180.9670, 197.0697, 140.1086]) cost: 1.606368\n",
      "Epoch:   18/20 hypothesis: tensor([152.7952, 183.6805, 180.9669, 197.0695, 140.1090]) cost: 1.605665\n",
      "Epoch:   19/20 hypothesis: tensor([152.7948, 183.6807, 180.9668, 197.0694, 140.1094]) cost: 1.604975\n",
      "Epoch:   20/20 hypothesis: tensor([152.7944, 183.6810, 180.9666, 197.0693, 140.1098]) cost: 1.604280\n"
     ]
    }
   ],
   "source": [
    "# optimizer 설정\n",
    "optimizer = optim.SGD([W, b], lr=1e-5)\n",
    "\n",
    "nb_epochs = 20\n",
    "for epoch in range(nb_epochs + 1):\n",
    "    # H(x)\n",
    "    # 편향 b는 브로드 캐스팅 되어 각 샘플에 더해짐\n",
    "    hypothesis = x_train.matmul(W) + b\n",
    "\n",
    "    # cost 계산\n",
    "    cost = torch.mean((hypothesis - y_train) ** 2)\n",
    "\n",
    "    # cost로 H(x) 개선\n",
    "    optimizer.zero_grad()\n",
    "    cost.backward()\n",
    "    optimizer.step()\n",
    "\n",
    "    print('Epoch: {:4d}/{} hypothesis: {} cost: {:.6f}'.format(epoch, nb_epochs, hypothesis.squeeze().detach(), cost.item()))"
   ]
  },
  {
   "cell_type": "code",
   "execution_count": null,
   "metadata": {},
   "outputs": [],
   "source": []
  }
 ],
 "metadata": {
  "interpreter": {
   "hash": "ace3e1ad7af0847684bd297f2968649b4d96ae2f627f328ee2eafd305163f7dc"
  },
  "kernelspec": {
   "display_name": "Python 3.8.11 64-bit ('rjs': conda)",
   "name": "python3"
  },
  "language_info": {
   "codemirror_mode": {
    "name": "ipython",
    "version": 3
   },
   "file_extension": ".py",
   "mimetype": "text/x-python",
   "name": "python",
   "nbconvert_exporter": "python",
   "pygments_lexer": "ipython3",
   "version": "3.8.12"
  },
  "orig_nbformat": 4
 },
 "nbformat": 4,
 "nbformat_minor": 2
}
