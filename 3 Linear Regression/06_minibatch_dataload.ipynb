{
 "cells": [
  {
   "cell_type": "markdown",
   "metadata": {},
   "source": [
    "# 데이터 로드"
   ]
  },
  {
   "cell_type": "code",
   "execution_count": 2,
   "metadata": {},
   "outputs": [],
   "source": [
    "import torch\n",
    "import torch.nn as nn\n",
    "import torch.nn.functional as F\n",
    "from torch.utils.data import TensorDataset, DataLoader"
   ]
  },
  {
   "cell_type": "code",
   "execution_count": 3,
   "metadata": {},
   "outputs": [],
   "source": [
    "x_train = torch.FloatTensor([\n",
    "    [73, 80, 75],\n",
    "    [93, 88, 93],\n",
    "    [89, 91, 90],\n",
    "    [96, 98, 100],\n",
    "    [73, 66, 70]\n",
    "])\n",
    "y_train = torch.FloatTensor([\n",
    "    [152], [185], [180], [196], [142]\n",
    "])"
   ]
  },
  {
   "cell_type": "markdown",
   "metadata": {},
   "source": [
    "- dataset 정의후 DataLoader에 전달"
   ]
  },
  {
   "cell_type": "code",
   "execution_count": 4,
   "metadata": {},
   "outputs": [],
   "source": [
    "dataset = TensorDataset(x_train, y_train)\n",
    "dataloader = DataLoader(dataset, batch_size=2, shuffle=True)"
   ]
  },
  {
   "cell_type": "code",
   "execution_count": 15,
   "metadata": {},
   "outputs": [],
   "source": [
    "model = nn.Linear(3, 1)\n",
    "optimizer = torch.optim.SGD(model.parameters(), lr=1e-5)"
   ]
  },
  {
   "cell_type": "code",
   "execution_count": 16,
   "metadata": {},
   "outputs": [
    {
     "name": "stdout",
     "output_type": "stream",
     "text": [
      "Epoch    0/20 Batch 1/3 Cost: 55707.937500\n",
      "Epoch    0/20 Batch 2/3 Cost: 9895.194336\n",
      "Epoch    0/20 Batch 3/3 Cost: 2231.752930\n",
      "Epoch    1/20 Batch 1/3 Cost: 1232.059082\n",
      "Epoch    1/20 Batch 2/3 Cost: 979.589478\n",
      "Epoch    1/20 Batch 3/3 Cost: 159.950165\n",
      "Epoch    2/20 Batch 1/3 Cost: 47.339775\n",
      "Epoch    2/20 Batch 2/3 Cost: 17.225489\n",
      "Epoch    2/20 Batch 3/3 Cost: 3.903181\n",
      "Epoch    3/20 Batch 1/3 Cost: 2.043445\n",
      "Epoch    3/20 Batch 2/3 Cost: 0.907628\n",
      "Epoch    3/20 Batch 3/3 Cost: 0.252509\n",
      "Epoch    4/20 Batch 1/3 Cost: 0.242539\n",
      "Epoch    4/20 Batch 2/3 Cost: 0.197367\n",
      "Epoch    4/20 Batch 3/3 Cost: 0.789087\n",
      "Epoch    5/20 Batch 1/3 Cost: 0.498295\n",
      "Epoch    5/20 Batch 2/3 Cost: 0.003073\n",
      "Epoch    5/20 Batch 3/3 Cost: 0.016378\n",
      "Epoch    6/20 Batch 1/3 Cost: 0.003347\n",
      "Epoch    6/20 Batch 2/3 Cost: 0.476040\n",
      "Epoch    6/20 Batch 3/3 Cost: 0.026841\n",
      "Epoch    7/20 Batch 1/3 Cost: 0.341684\n",
      "Epoch    7/20 Batch 2/3 Cost: 0.074917\n",
      "Epoch    7/20 Batch 3/3 Cost: 0.359440\n",
      "Epoch    8/20 Batch 1/3 Cost: 0.045200\n",
      "Epoch    8/20 Batch 2/3 Cost: 0.521073\n",
      "Epoch    8/20 Batch 3/3 Cost: 0.014282\n",
      "Epoch    9/20 Batch 1/3 Cost: 0.114740\n",
      "Epoch    9/20 Batch 2/3 Cost: 0.015949\n",
      "Epoch    9/20 Batch 3/3 Cost: 0.879278\n",
      "Epoch   10/20 Batch 1/3 Cost: 0.487145\n",
      "Epoch   10/20 Batch 2/3 Cost: 0.053369\n",
      "Epoch   10/20 Batch 3/3 Cost: 0.052282\n",
      "Epoch   11/20 Batch 1/3 Cost: 0.003817\n",
      "Epoch   11/20 Batch 2/3 Cost: 0.323342\n",
      "Epoch   11/20 Batch 3/3 Cost: 0.508844\n",
      "Epoch   12/20 Batch 1/3 Cost: 0.079838\n",
      "Epoch   12/20 Batch 2/3 Cost: 0.536059\n",
      "Epoch   12/20 Batch 3/3 Cost: 0.008415\n",
      "Epoch   13/20 Batch 1/3 Cost: 0.334152\n",
      "Epoch   13/20 Batch 2/3 Cost: 0.041420\n",
      "Epoch   13/20 Batch 3/3 Cost: 0.407122\n",
      "Epoch   14/20 Batch 1/3 Cost: 0.017381\n",
      "Epoch   14/20 Batch 2/3 Cost: 0.084913\n",
      "Epoch   14/20 Batch 3/3 Cost: 1.040160\n",
      "Epoch   15/20 Batch 1/3 Cost: 0.397945\n",
      "Epoch   15/20 Batch 2/3 Cost: 0.338129\n",
      "Epoch   15/20 Batch 3/3 Cost: 0.083795\n",
      "Epoch   16/20 Batch 1/3 Cost: 0.195042\n",
      "Epoch   16/20 Batch 2/3 Cost: 0.426980\n",
      "Epoch   16/20 Batch 3/3 Cost: 0.057962\n",
      "Epoch   17/20 Batch 1/3 Cost: 0.163515\n",
      "Epoch   17/20 Batch 2/3 Cost: 0.410300\n",
      "Epoch   17/20 Batch 3/3 Cost: 0.057222\n",
      "Epoch   18/20 Batch 1/3 Cost: 0.298833\n",
      "Epoch   18/20 Batch 2/3 Cost: 0.048744\n",
      "Epoch   18/20 Batch 3/3 Cost: 0.426867\n",
      "Epoch   19/20 Batch 1/3 Cost: 0.561161\n",
      "Epoch   19/20 Batch 2/3 Cost: 0.007258\n",
      "Epoch   19/20 Batch 3/3 Cost: 0.000021\n",
      "Epoch   20/20 Batch 1/3 Cost: 0.007158\n",
      "Epoch   20/20 Batch 2/3 Cost: 0.480427\n",
      "Epoch   20/20 Batch 3/3 Cost: 0.009057\n"
     ]
    }
   ],
   "source": [
    "nb_epochs = 20\n",
    "for epoch in range(nb_epochs + 1):\n",
    "    for batch_idx, samples in enumerate(dataloader):\n",
    "        x_train, y_train = samples\n",
    "        prediction = model(x_train)\n",
    "        cost = F.mse_loss(prediction, y_train)\n",
    "        optimizer.zero_grad()\n",
    "        cost.backward()\n",
    "        optimizer.step()\n",
    "        print('Epoch {:4d}/{} Batch {}/{} Cost: {:.6f}'.format(\n",
    "            epoch, nb_epochs, batch_idx+1, len(dataloader), cost.item()))"
   ]
  },
  {
   "cell_type": "code",
   "execution_count": 17,
   "metadata": {},
   "outputs": [
    {
     "name": "stdout",
     "output_type": "stream",
     "text": [
      "tensor([[151.8835]], grad_fn=<AddmmBackward0>)\n"
     ]
    }
   ],
   "source": [
    "new_var = torch.FloatTensor([[73, 80, 75]])\n",
    "pred_y = model(new_var)\n",
    "print(pred_y)"
   ]
  },
  {
   "cell_type": "code",
   "execution_count": null,
   "metadata": {},
   "outputs": [],
   "source": []
  }
 ],
 "metadata": {
  "interpreter": {
   "hash": "ace3e1ad7af0847684bd297f2968649b4d96ae2f627f328ee2eafd305163f7dc"
  },
  "kernelspec": {
   "display_name": "Python 3.8.11 64-bit ('rjs': conda)",
   "name": "python3"
  },
  "language_info": {
   "codemirror_mode": {
    "name": "ipython",
    "version": 3
   },
   "file_extension": ".py",
   "mimetype": "text/x-python",
   "name": "python",
   "nbconvert_exporter": "python",
   "pygments_lexer": "ipython3",
   "version": "3.8.12"
  },
  "orig_nbformat": 4
 },
 "nbformat": 4,
 "nbformat_minor": 2
}
