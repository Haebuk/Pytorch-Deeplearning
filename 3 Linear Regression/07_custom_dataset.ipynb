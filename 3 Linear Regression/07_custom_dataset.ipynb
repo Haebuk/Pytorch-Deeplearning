{
 "cells": [
  {
   "cell_type": "markdown",
   "metadata": {},
   "source": [
    "# 커스텀 데이터셋\n",
    "```python3\n",
    "class CustomDataset(torch.utils.data.Dataset):\n",
    "    def __init__(self):\n",
    "        # 데이터셋 전처리 부분\n",
    "    def __len__(self):\n",
    "        # 데이터셋의 길이, 총 샘플의 수를 적어주는 부분\n",
    "        # len(dataset)을 했을 때 데이터셋의 크기 리턴\n",
    "    def __getitem__(self, idx):\n",
    "        # 데이터셋에서 특정 1개의 샘플을 가져오는 함수\n",
    "        # dataset[i]을 했을 때 i번째 샘플 리턴\n",
    "```"
   ]
  },
  {
   "cell_type": "markdown",
   "metadata": {},
   "source": [
    "# 선형 회귀 구현"
   ]
  },
  {
   "cell_type": "code",
   "execution_count": 2,
   "metadata": {},
   "outputs": [],
   "source": [
    "import torch\n",
    "import torch.nn.functional as F\n",
    "from torch.utils.data import Dataset, DataLoader"
   ]
  },
  {
   "cell_type": "code",
   "execution_count": 3,
   "metadata": {},
   "outputs": [],
   "source": [
    "# Dataset 상속\n",
    "class CustomDataset(Dataset):\n",
    "    def __init__(self):\n",
    "        self.x_data = [\n",
    "            [73, 80, 75],\n",
    "            [93, 88, 93],\n",
    "            [89, 91, 90],\n",
    "            [96, 98, 100],\n",
    "            [73, 66, 70]\n",
    "        ]\n",
    "        self.y_data = [\n",
    "            [152], [185], [180], [196], [142]\n",
    "        ]\n",
    "\n",
    "    def __len__(self):\n",
    "        return len(self.x_data)\n",
    "\n",
    "    def __getitem__(self, idx):\n",
    "        x = torch.FloatTensor(self.x_data[idx])\n",
    "        y = torch.FloatTensor(self.y_data[idx])\n",
    "        return x, y "
   ]
  },
  {
   "cell_type": "code",
   "execution_count": 4,
   "metadata": {},
   "outputs": [],
   "source": [
    "dataset = CustomDataset()\n",
    "dataloader = DataLoader(dataset, batch_size=2, shuffle=True)"
   ]
  },
  {
   "cell_type": "code",
   "execution_count": 5,
   "metadata": {},
   "outputs": [],
   "source": [
    "model = torch.nn.Linear(3, 1)\n",
    "optimizer = torch.optim.SGD(model.parameters(), lr=1e-5)"
   ]
  },
  {
   "cell_type": "code",
   "execution_count": 6,
   "metadata": {},
   "outputs": [
    {
     "name": "stdout",
     "output_type": "stream",
     "text": [
      "Epoch    0/20 Batch 0/3 Cost: 46881.121094\n",
      "Epoch    0/20 Batch 1/3 Cost: 20427.019531\n",
      "Epoch    0/20 Batch 2/3 Cost: 6026.905762\n",
      "Epoch    1/20 Batch 0/3 Cost: 1245.760254\n",
      "Epoch    1/20 Batch 1/3 Cost: 637.337402\n",
      "Epoch    1/20 Batch 2/3 Cost: 163.858444\n",
      "Epoch    2/20 Batch 0/3 Cost: 55.822914\n",
      "Epoch    2/20 Batch 1/3 Cost: 4.756855\n",
      "Epoch    2/20 Batch 2/3 Cost: 3.400089\n",
      "Epoch    3/20 Batch 0/3 Cost: 2.200951\n",
      "Epoch    3/20 Batch 1/3 Cost: 2.251318\n",
      "Epoch    3/20 Batch 2/3 Cost: 1.208604\n",
      "Epoch    4/20 Batch 0/3 Cost: 2.109359\n",
      "Epoch    4/20 Batch 1/3 Cost: 0.689325\n",
      "Epoch    4/20 Batch 2/3 Cost: 0.650989\n",
      "Epoch    5/20 Batch 0/3 Cost: 0.205328\n",
      "Epoch    5/20 Batch 1/3 Cost: 2.069862\n",
      "Epoch    5/20 Batch 2/3 Cost: 0.171840\n",
      "Epoch    6/20 Batch 0/3 Cost: 0.201195\n",
      "Epoch    6/20 Batch 1/3 Cost: 1.254904\n",
      "Epoch    6/20 Batch 2/3 Cost: 2.015138\n",
      "Epoch    7/20 Batch 0/3 Cost: 0.516886\n",
      "Epoch    7/20 Batch 1/3 Cost: 0.419207\n",
      "Epoch    7/20 Batch 2/3 Cost: 3.122984\n",
      "Epoch    8/20 Batch 0/3 Cost: 1.688845\n",
      "Epoch    8/20 Batch 1/3 Cost: 0.159667\n",
      "Epoch    8/20 Batch 2/3 Cost: 2.510070\n",
      "Epoch    9/20 Batch 0/3 Cost: 1.994542\n",
      "Epoch    9/20 Batch 1/3 Cost: 1.203863\n",
      "Epoch    9/20 Batch 2/3 Cost: 0.769422\n",
      "Epoch   10/20 Batch 0/3 Cost: 0.158827\n",
      "Epoch   10/20 Batch 1/3 Cost: 0.824483\n",
      "Epoch   10/20 Batch 2/3 Cost: 3.392609\n",
      "Epoch   11/20 Batch 0/3 Cost: 1.548872\n",
      "Epoch   11/20 Batch 1/3 Cost: 1.380542\n",
      "Epoch   11/20 Batch 2/3 Cost: 0.032993\n",
      "Epoch   12/20 Batch 0/3 Cost: 1.129966\n",
      "Epoch   12/20 Batch 1/3 Cost: 1.120244\n",
      "Epoch   12/20 Batch 2/3 Cost: 0.256713\n",
      "Epoch   13/20 Batch 0/3 Cost: 0.185191\n",
      "Epoch   13/20 Batch 1/3 Cost: 0.711285\n",
      "Epoch   13/20 Batch 2/3 Cost: 3.539526\n",
      "Epoch   14/20 Batch 0/3 Cost: 1.473101\n",
      "Epoch   14/20 Batch 1/3 Cost: 0.166699\n",
      "Epoch   14/20 Batch 2/3 Cost: 2.560459\n",
      "Epoch   15/20 Batch 0/3 Cost: 1.446045\n",
      "Epoch   15/20 Batch 1/3 Cost: 1.151469\n",
      "Epoch   15/20 Batch 2/3 Cost: 0.584151\n",
      "Epoch   16/20 Batch 0/3 Cost: 0.769050\n",
      "Epoch   16/20 Batch 1/3 Cost: 0.285347\n",
      "Epoch   16/20 Batch 2/3 Cost: 2.881591\n",
      "Epoch   17/20 Batch 0/3 Cost: 0.911549\n",
      "Epoch   17/20 Batch 1/3 Cost: 1.912027\n",
      "Epoch   17/20 Batch 2/3 Cost: 0.049617\n",
      "Epoch   18/20 Batch 0/3 Cost: 0.981903\n",
      "Epoch   18/20 Batch 1/3 Cost: 1.281035\n",
      "Epoch   18/20 Batch 2/3 Cost: 0.424896\n",
      "Epoch   19/20 Batch 0/3 Cost: 1.440784\n",
      "Epoch   19/20 Batch 1/3 Cost: 1.413562\n",
      "Epoch   19/20 Batch 2/3 Cost: 0.102796\n",
      "Epoch   20/20 Batch 0/3 Cost: 0.511369\n",
      "Epoch   20/20 Batch 1/3 Cost: 2.341044\n",
      "Epoch   20/20 Batch 2/3 Cost: 0.323414\n"
     ]
    }
   ],
   "source": [
    "nb_epochs = 20\n",
    "for epoch in range(nb_epochs + 1):\n",
    "    for batch_idx, samples in enumerate(dataloader):\n",
    "        x_train, y_train = samples\n",
    "        prediction = model(x_train)\n",
    "        cost = F.mse_loss(prediction, y_train)\n",
    "        optimizer.zero_grad()\n",
    "        cost.backward()\n",
    "        optimizer.step()\n",
    "        print('Epoch {:4d}/{} Batch {}/{} Cost: {:.6f}'.format(\n",
    "            epoch, nb_epochs, batch_idx, len(dataloader), cost.item()))\n",
    "        "
   ]
  },
  {
   "cell_type": "code",
   "execution_count": 7,
   "metadata": {},
   "outputs": [
    {
     "name": "stdout",
     "output_type": "stream",
     "text": [
      "훈련 후 입력이 73, 80, 75일 때의 예측값 : tensor([[150.3400]], grad_fn=<AddmmBackward0>)\n"
     ]
    }
   ],
   "source": [
    "# 임의의 입력 [73, 80, 75]를 선언\n",
    "new_var =  torch.FloatTensor([[73, 80, 75]]) \n",
    "# 입력한 값 [73, 80, 75]에 대해서 예측값 y를 리턴받아서 pred_y에 저장\n",
    "pred_y = model(new_var) \n",
    "print(\"훈련 후 입력이 73, 80, 75일 때의 예측값 :\", pred_y) "
   ]
  }
 ],
 "metadata": {
  "interpreter": {
   "hash": "ace3e1ad7af0847684bd297f2968649b4d96ae2f627f328ee2eafd305163f7dc"
  },
  "kernelspec": {
   "display_name": "Python 3.8.11 64-bit ('rjs': conda)",
   "name": "python3"
  },
  "language_info": {
   "codemirror_mode": {
    "name": "ipython",
    "version": 3
   },
   "file_extension": ".py",
   "mimetype": "text/x-python",
   "name": "python",
   "nbconvert_exporter": "python",
   "pygments_lexer": "ipython3",
   "version": "3.8.12"
  },
  "orig_nbformat": 4
 },
 "nbformat": 4,
 "nbformat_minor": 2
}
